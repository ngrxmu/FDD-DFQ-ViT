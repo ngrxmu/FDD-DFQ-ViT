{
 "cells": [
  {
   "cell_type": "code",
   "execution_count": 1,
   "metadata": {},
   "outputs": [],
   "source": [
    "import torch.fft as fft\n",
    "import torch\n",
    "import cv2 as cv\n",
    "import os\n",
    "import torchvision.transforms as transforms\n",
    "import numpy as np\n",
    "import matplotlib.pyplot as plt"
   ]
  },
  {
   "cell_type": "code",
   "execution_count": 2,
   "metadata": {},
   "outputs": [],
   "source": [
    "def loadata(path):\n",
    "    calibrate_data = torch.load(path)\n",
    "    mean = torch.tensor([0.485, 0.456, 0.406]).unsqueeze(1).unsqueeze(2).unsqueeze(0).cuda()\n",
    "    std = torch.tensor([0.229, 0.224, 0.225]).unsqueeze(1).unsqueeze(2).unsqueeze(0).cuda()\n",
    "    data = (calibrate_data * std.expand_as(calibrate_data)) + mean.expand_as(calibrate_data)\n",
    "    return data\n",
    "\n",
    "def saveimg(name, data):\n",
    "    cv.imwrite(name, (data.permute(1, 2, 0)*255).cpu().detach().numpy())\n",
    "\n",
    "def fftmask(r1, r2, r3):\n",
    "    S = 224\n",
    "    R = S // 2\n",
    "    R1 = R * r1\n",
    "    R2 = R * r2\n",
    "    R3 = R * r3\n",
    "    lmask = torch.zeros((S, S))\n",
    "    hmask = torch.zeros((S, S))\n",
    "    for i in range(S):\n",
    "        for j in range(S):\n",
    "            dis = (i - (S - 1) / 2) ** 2 + (j - (S - 1) / 2) ** 2\n",
    "            if (dis <= R1 ** 2):\n",
    "                lmask[i, j] = 1\n",
    "            if (dis <= R2 ** 2 and dis >= R3 ** 2):\n",
    "                hmask[i, j] = 1\n",
    "    lmask, hmask = lmask.cuda(), hmask.cuda()\n",
    "    return lmask, hmask\n",
    "\n",
    "def imgfft(calibrate_data, lmask, hmask):\n",
    "    h, w = calibrate_data.shape[-2], calibrate_data.shape[-1]\n",
    "    f = fft.fftn(calibrate_data, dim=(2,3))\n",
    "    f = torch.roll(f, (h // 2, w // 2), dims=(2, 3))\n",
    "    data_l = f * lmask\n",
    "    data_h = f * hmask\n",
    "    data_l = torch.abs(fft.ifftn(data_l, dim=(2, 3)))\n",
    "    data_h = torch.abs(fft.ifftn(data_h, dim=(2, 3)))\n",
    "    return data_l, data_h\n",
    "\n",
    "def GetGrad(img):\n",
    "    transform = transforms.Compose([\n",
    "    transforms.Grayscale()])\n",
    "    image = transform(img)\n",
    "    sobel_x = torch.Tensor([[-1, 0, 1], [-2, 0, 2], [-1, 0, 1]]).cuda()\n",
    "    sobel_y = torch.Tensor([[-1, -2, -1], [0, 0, 0], [1, 2, 1]]).cuda()\n",
    "    gradient_x = torch.nn.functional.conv2d(image, sobel_x.unsqueeze(0).unsqueeze(0))\n",
    "    gradient_y = torch.nn.functional.conv2d(image, sobel_y.unsqueeze(0).unsqueeze(0))\n",
    "    gradient_magnitude = torch.sqrt(gradient_x.pow(2) + gradient_y.pow(2))\n",
    "    gradient_magnitude = gradient_magnitude / gradient_magnitude.max()\n",
    "\n",
    "    return gradient_magnitude"
   ]
  },
  {
   "cell_type": "code",
   "execution_count": 3,
   "metadata": {},
   "outputs": [],
   "source": [
    "os.environ[\"CUDA_VISIBLE_DEVICES\"]=\"0\" \n",
    "modelname = 'swin_small'\n",
    "if not os.path.exists('visualization'):\n",
    "    os.mkdir('visualization')"
   ]
  },
  {
   "cell_type": "code",
   "execution_count": 4,
   "metadata": {},
   "outputs": [],
   "source": [
    "# show calibrate data and it's high-frequency gradient\n",
    "if not os.path.exists('visualization/img'):\n",
    "    os.mkdir('visualization/img')\n",
    "\n",
    "# FDD\n",
    "calibrate_data = loadata(f\"calibrate_data/{modelname}.pt\")\n",
    "lmask, hmask = fftmask(0.6, 1, 0.6)\n",
    "_, img_h = imgfft(calibrate_data, lmask, hmask)\n",
    "g_img_h = GetGrad(img_h)\n",
    "for i in range(3):\n",
    "    saveimg(f'visualization/img/FDD_{i}.jpg', calibrate_data[i])\n",
    "    saveimg(f'visualization/img/FDD_g_{i}.jpg', g_img_h[i])\n",
    "\n",
    "# PSAQ\n",
    "calibrate_data = loadata(f\"calibrate_data/{modelname}_syn.pt\")\n",
    "lmask, hmask = fftmask(0.6, 1, 0.6)\n",
    "_, img_h = imgfft(calibrate_data, lmask, hmask)\n",
    "g_img_h = GetGrad(img_h)\n",
    "for i in range(3):\n",
    "    saveimg(f'visualization/img/PSAQ_{i}.jpg', calibrate_data[i])\n",
    "    saveimg(f'visualization/img/PSAQ_g_{i}.jpg', g_img_h[i])"
   ]
  },
  {
   "cell_type": "code",
   "execution_count": 5,
   "metadata": {},
   "outputs": [
    {
     "data": {
      "image/png": "[encoded data removed]",
      "text/plain": [
       "<Figure size 432x288 with 1 Axes>"
      ]
     },
     "metadata": {
      "needs_background": "light"
     },
     "output_type": "display_data"
    }
   ],
   "source": [
    "# low-frequency vs. high-frequency\n",
    "if not os.path.exists('visualization/analyse'):\n",
    "    os.mkdir('visualization/analyse')\n",
    "\n",
    "x = np.arange(0.1, 1, 0.1)\n",
    "y_lf = [15.698, 45.820, 59.876, 66.544, 72.402, 75.678, 78.188, 80.116, 81.556]\n",
    "y_hf = [28.584, 16.926, 12.406, 9.176, 4.720, 1.938, 0.882, 0.488, 0.318]\n",
    "\n",
    "plt.plot(x, y_lf, 'o-', color='r', label='low-frequency')\n",
    "plt.plot(x, y_hf, 's-', color='b', label='high-frequency')\n",
    "plt.xlabel('radius rate')\n",
    "plt.ylabel('acc(%)')\n",
    "plt.legend()\n",
    "plt.savefig('visualization/analyse/lf_vs_hf.pdf')"
   ]
  },
  {
   "cell_type": "code",
   "execution_count": 6,
   "metadata": {},
   "outputs": [
    {
     "name": "stdout",
     "output_type": "stream",
     "text": [
      "[0.4, 0.5, 0.6, 0.7, 0.8, 0.9]\n"
     ]
    },
    {
     "data": {
      "image/png": "[encoded data removed]",
      "text/plain": [
       "<Figure size 432x288 with 1 Axes>"
      ]
     },
     "metadata": {
      "needs_background": "light"
     },
     "output_type": "display_data"
    }
   ],
   "source": [
    "# FDD vs. PSAQ\n",
    "if not os.path.exists('visualization/analyse'):\n",
    "    os.mkdir('visualization/analyse')\n",
    "\n",
    "x = [0.4, 0.5, 0.6, 0.7, 0.8, 0.9]\n",
    "real = [1.15, 0.69, 0.45, 0.27, 0.14, 0.04]\n",
    "syn = [1.52, 1.29, 0.78, 0.41, 0.22, 0.12]\n",
    "fdd = [0.96, 0.56, 0.51, 0.28, 0.16, 0.05]\n",
    "\n",
    "height = 0.2\n",
    "a1 = list(range(len(x)))\n",
    "a2 = [i+height for i in a1]\n",
    "a3 = [i+height*2 for i in a1]\n",
    "\n",
    "plt.barh(a1, fdd, height= height, label = \"FDD\", color = \"#473C8B\")\n",
    "plt.barh(a2, syn, height= height, label = \"PSAQ\", color = \"#FFC125\")\n",
    "plt.barh(a3, real, height= height, label = \"REAL\", color = \"#969696\")\n",
    "\n",
    "plt.yticks(a2, x)\n",
    "print(x)\n",
    "plt.legend()\n",
    "\n",
    "plt.xlabel(\"KL divergence\")\n",
    "plt.ylabel(\"radius rate\")\n",
    "\n",
    "plt.savefig('visualization/analyse/FDD_vs_PSAQ.pdf')"
   ]
  }
 ],
 "metadata": {
  "kernelspec": {
   "display_name": "base",
   "language": "python",
   "name": "python3"
  },
  "language_info": {
   "codemirror_mode": {
    "name": "ipython",
    "version": 3
   },
   "file_extension": ".py",
   "mimetype": "text/x-python",
   "name": "python",
   "nbconvert_exporter": "python",
   "pygments_lexer": "ipython3",
   "version": "3.9.7"
  },
  "orig_nbformat": 4
 },
 "nbformat": 4,
 "nbformat_minor": 2
}
